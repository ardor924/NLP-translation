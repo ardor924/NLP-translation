{
 "cells": [
  {
   "cell_type": "code",
   "execution_count": 2,
   "metadata": {
    "execution": {
     "iopub.execute_input": "2025-01-13T03:38:41.608376Z",
     "iopub.status.busy": "2025-01-13T03:38:41.607950Z",
     "iopub.status.idle": "2025-01-13T03:38:41.617169Z",
     "shell.execute_reply": "2025-01-13T03:38:41.616312Z",
     "shell.execute_reply.started": "2025-01-13T03:38:41.608337Z"
    },
    "trusted": true
   },
   "outputs": [
    {
     "name": "stderr",
     "output_type": "stream",
     "text": [
      "c:\\anaconda3\\envs\\NLP\\lib\\site-packages\\tqdm\\auto.py:21: TqdmWarning: IProgress not found. Please update jupyter and ipywidgets. See https://ipywidgets.readthedocs.io/en/stable/user_install.html\n",
      "  from .autonotebook import tqdm as notebook_tqdm\n"
     ]
    }
   ],
   "source": [
    "#================================================================\n",
    "# ▶ 모듈불러오기\n",
    "#================================================================\n",
    "# 시스템\n",
    "import os\n",
    "import sys\n",
    "from tqdm import tqdm\n",
    "\n",
    "# 데이터분석\n",
    "import numpy as np\n",
    "import pandas as pd\n",
    "import seaborn as sns\n",
    "import matplotlib.pyplot as plt\n",
    "%matplotlib inline\n",
    "\n",
    "# 파이토치\n",
    "import torch\n",
    "from torch.utils.data import Dataset, DataLoader\n",
    "\n",
    "# 데이터셋\n",
    "from torch.utils.data import Dataset, DataLoader\n",
    "from sklearn.model_selection import train_test_split\n",
    "\n",
    "# 모델\n",
    "from transformers import RobertaTokenizer, RobertaForSequenceClassification\n",
    "from transformers import AutoTokenizer, AutoModelForSeq2SeqLM\n",
    "\n",
    "\n",
    "# 평가지표\n",
    "from sklearn.metrics import f1_score\n",
    "\n",
    "\n",
    "# 데이터 분할\n",
    "from sklearn.model_selection import train_test_split\n",
    "\n",
    "\n",
    "# 유틸\n",
    "import gc\n",
    "from tqdm.auto import tqdm\n",
    "from tqdm import tqdm\n",
    "import random\n",
    "\n",
    "# 기타 추가(옵션)\n",
    "import copy\n",
    "import zipfile\n",
    "from glob import glob\n",
    "import time\n",
    "\n",
    "# NLTK BLEU 점수 계산을 위한 설정\n",
    "import nltk\n",
    "from nltk.translate.bleu_score import corpus_bleu\n",
    "\n",
    "# 기타\n",
    "import warnings\n",
    "warnings.filterwarnings(action='ignore')"
   ]
  },
  {
   "cell_type": "code",
   "execution_count": 3,
   "metadata": {},
   "outputs": [],
   "source": [
    "#===============================================================================\n",
    "# ▶ 전역설정\n",
    "#===============================================================================\n",
    "TOKEN = '---COPY YOUR TOKEN---'\n",
    "MODEL_NAME = \"bert-base-multilingual-cased\"\n",
    "\n",
    "MODEL = 'BERT'\n",
    "VERSION = 'STEP-0'\n",
    "\n",
    "MAX_LEN = 8\n",
    "# MAX_LEN = 128\n",
    "# MAX_LEN = 250 \n",
    "BATCH_SIZE =4\n",
    "EPOCHS = 1\n",
    "LEARNING_RATE = 5e-5\n",
    "# LEARNING_RATE = 1e-3\n",
    "SEED = 2025\n",
    "DEVICE = \"cuda\" if torch.cuda.is_available() else \"cpu\""
   ]
  },
  {
   "cell_type": "code",
   "execution_count": 4,
   "metadata": {
    "execution": {
     "iopub.execute_input": "2025-01-13T03:38:41.618590Z",
     "iopub.status.busy": "2025-01-13T03:38:41.618309Z",
     "iopub.status.idle": "2025-01-13T03:38:41.632575Z",
     "shell.execute_reply": "2025-01-13T03:38:41.631925Z",
     "shell.execute_reply.started": "2025-01-13T03:38:41.618564Z"
    },
    "trusted": true
   },
   "outputs": [],
   "source": [
    "#===============================================================================\n",
    "# ▶ 시드설정\n",
    "#===============================================================================\n",
    "def set_seed(SEED):\n",
    "    random.seed(SEED)\n",
    "    np.random.seed(SEED)\n",
    "    torch.manual_seed(SEED)\n",
    "    torch.cuda.manual_seed(SEED)\n",
    "    os.environ['PYTHONHASHSEED'] = str(SEED)\n",
    "\n",
    "# deterministic 설정\n",
    "deterministic = True\n",
    "if deterministic:\n",
    "    torch.backends.cudnn.deterministic = True\n",
    "    torch.backends.cudnn.benchmark     = False\n",
    "\n",
    "set_seed(SEED)"
   ]
  },
  {
   "cell_type": "code",
   "execution_count": 5,
   "metadata": {
    "execution": {
     "iopub.execute_input": "2025-01-13T03:38:41.634584Z",
     "iopub.status.busy": "2025-01-13T03:38:41.634367Z",
     "iopub.status.idle": "2025-01-13T03:38:41.643218Z",
     "shell.execute_reply": "2025-01-13T03:38:41.642550Z",
     "shell.execute_reply.started": "2025-01-13T03:38:41.634566Z"
    },
    "trusted": true
   },
   "outputs": [],
   "source": [
    "#===============================================================================\n",
    "# ▶ 작업환경\n",
    "#===============================================================================\n",
    "IS_GOOGLE = True if 'google.colab'                 in sys.modules   else False\n",
    "IS_KAGGLE = True if 'KAGGLE_KERNEL_RUN_TYPE'       in os.environ    else False\n",
    "IS_LOCAL  = True if  not (IS_GOOGLE or IS_KAGGLE)                   else False"
   ]
  },
  {
   "cell_type": "code",
   "execution_count": 6,
   "metadata": {
    "execution": {
     "iopub.execute_input": "2025-01-13T03:38:41.644447Z",
     "iopub.status.busy": "2025-01-13T03:38:41.644194Z",
     "iopub.status.idle": "2025-01-13T03:38:41.657327Z",
     "shell.execute_reply": "2025-01-13T03:38:41.656521Z",
     "shell.execute_reply.started": "2025-01-13T03:38:41.644426Z"
    },
    "trusted": true
   },
   "outputs": [],
   "source": [
    "#===============================================================================\n",
    "# ▶ 데이터 패스설정\n",
    "#===============================================================================\n",
    "\n",
    "# 코랩용\n",
    "if IS_GOOGLE:\n",
    "    base_path = '/content/drive/MyDrive/프로젝트/2023 교원그룹 AI OCR 챌린지/data/'\n",
    "\n",
    "# 캐글용\n",
    "elif IS_KAGGLE :\n",
    "    base_path = '/kaggle/input/kor-eng/kr-en/'\n",
    "# 로컬용\n",
    "elif IS_LOCAL :\n",
    "    base_path = './data/'\n",
    "\n",
    "# 트레인&테스트 경로\n",
    "train_file = base_path+'2_대화체_변환추출_한-영.csv'\n",
    "\n",
    "# 기타 데이터 경로\n",
    "sample_submission    = base_path+'submission.csv'\n",
    "\n",
    "# 결과 저장 경로\n",
    "result_path = './res/'\n"
   ]
  },
  {
   "cell_type": "code",
   "execution_count": 7,
   "metadata": {
    "execution": {
     "iopub.execute_input": "2025-01-13T03:38:41.658304Z",
     "iopub.status.busy": "2025-01-13T03:38:41.658019Z",
     "iopub.status.idle": "2025-01-13T03:38:41.975461Z",
     "shell.execute_reply": "2025-01-13T03:38:41.974456Z",
     "shell.execute_reply.started": "2025-01-13T03:38:41.658272Z"
    },
    "trusted": true
   },
   "outputs": [],
   "source": [
    "#===============================================================================\n",
    "# ▶ 데이터 불러오기\n",
    "#===============================================================================\n",
    "df = pd.read_csv(train_file,encoding='utf-8-sig')\n",
    "\n",
    "# 훈련 검증 데이터 분할\n",
    "train_df, val_df = train_test_split(df, test_size=0.2, random_state=SEED)"
   ]
  },
  {
   "cell_type": "code",
   "execution_count": 8,
   "metadata": {
    "execution": {
     "iopub.execute_input": "2025-01-13T03:38:41.976489Z",
     "iopub.status.busy": "2025-01-13T03:38:41.976238Z",
     "iopub.status.idle": "2025-01-13T03:38:42.107263Z",
     "shell.execute_reply": "2025-01-13T03:38:42.106434Z",
     "shell.execute_reply.started": "2025-01-13T03:38:41.976468Z"
    },
    "trusted": true
   },
   "outputs": [],
   "source": [
    "#===============================================================================\n",
    "# ▶ 데이터셋 클래스 정의\n",
    "#===============================================================================\n",
    "class TranslationDataset(Dataset):\n",
    "    def __init__(self, dataframe, tokenizer, max_length=MAX_LEN):\n",
    "        self.tokenizer = tokenizer\n",
    "        self.data = dataframe\n",
    "        self.max_length = max_length\n",
    "\n",
    "    def __len__(self):\n",
    "        return len(self.data)\n",
    "\n",
    "    def __getitem__(self, index):\n",
    "        source_text = self.data.iloc[index]['영어']\n",
    "        target_text = self.data.iloc[index]['한국어']\n",
    "\n",
    "        source_encoding = self.tokenizer(source_text, return_tensors='pt', max_length=self.max_length, padding='max_length', truncation=True)\n",
    "        target_encoding = self.tokenizer(target_text, return_tensors='pt', max_length=self.max_length, padding='max_length', truncation=True)\n",
    "\n",
    "        return {\n",
    "            'input_ids': source_encoding['input_ids'].squeeze(),\n",
    "            'attention_mask': source_encoding['attention_mask'].squeeze(),\n",
    "            'labels': target_encoding['input_ids'].squeeze()\n",
    "        }"
   ]
  },
  {
   "cell_type": "code",
   "execution_count": 9,
   "metadata": {},
   "outputs": [],
   "source": [
    "#===============================================================================\n",
    "# ▶ 모델 및 토크나이저 초기화\n",
    "#===============================================================================\n",
    "model_name = \"facebook/bart-base\"  \n",
    "tokenizer = AutoTokenizer.from_pretrained(model_name)\n",
    "model = AutoModelForSeq2SeqLM.from_pretrained(model_name)\n"
   ]
  },
  {
   "cell_type": "code",
   "execution_count": 10,
   "metadata": {},
   "outputs": [],
   "source": [
    "#===============================================================================\n",
    "# ▶ 데이터셋 및 데이터로더 생성\n",
    "#===============================================================================\n",
    "train_dataset = TranslationDataset(train_df, tokenizer)\n",
    "val_dataset = TranslationDataset(val_df, tokenizer)\n",
    "train_loader = DataLoader(train_dataset, batch_size=BATCH_SIZE, shuffle=True)\n",
    "val_loader = DataLoader(val_dataset, batch_size=BATCH_SIZE)"
   ]
  },
  {
   "cell_type": "code",
   "execution_count": 11,
   "metadata": {},
   "outputs": [],
   "source": [
    "#===============================================================================\n",
    "# ▶ 학습툴 준비\n",
    "#===============================================================================\n",
    "device = torch.device('cuda' if torch.cuda.is_available() else 'cpu')\n",
    "model.to(device)\n",
    "optimizer = torch.optim.AdamW(model.lm_head.parameters(), lr=LEARNING_RATE)"
   ]
  },
  {
   "cell_type": "code",
   "execution_count": 12,
   "metadata": {
    "execution": {
     "iopub.execute_input": "2025-01-13T03:38:47.356280Z",
     "iopub.status.busy": "2025-01-13T03:38:47.355951Z",
     "iopub.status.idle": "2025-01-13T03:38:47.363479Z",
     "shell.execute_reply": "2025-01-13T03:38:47.362501Z",
     "shell.execute_reply.started": "2025-01-13T03:38:47.356256Z"
    },
    "trusted": true
   },
   "outputs": [],
   "source": [
    "#===============================================================================\n",
    "# ▶ 학습함수정의\n",
    "#===============================================================================\n",
    "# 학습용\n",
    "def train(model, dataloader, optimizer, device):\n",
    "    model.train()\n",
    "    total_loss = 0\n",
    "    for batch in tqdm(dataloader, desc=\"Training\"):\n",
    "        input_ids = batch['input_ids'].to(device)\n",
    "        attention_mask = batch['attention_mask'].to(device)\n",
    "        labels = batch['labels'].to(device)\n",
    "\n",
    "        outputs = model(input_ids=input_ids, attention_mask=attention_mask, labels=labels)\n",
    "        loss = outputs.loss\n",
    "        total_loss += loss.item()\n",
    "\n",
    "        optimizer.zero_grad()\n",
    "        loss.backward()\n",
    "        optimizer.step()\n",
    "\n",
    "    return total_loss / len(dataloader)\n",
    "\n",
    "# 평가용\n",
    "def evaluate(model, dataloader, device):\n",
    "    model.eval()\n",
    "    total_loss = 0\n",
    "    predictions = []\n",
    "    references = []\n",
    "    with torch.no_grad():\n",
    "        for batch in tqdm(dataloader, desc=\"Evaluating\"):\n",
    "            input_ids = batch['input_ids'].to(device)\n",
    "            attention_mask = batch['attention_mask'].to(device)\n",
    "            labels = batch['labels'].to(device)\n",
    "\n",
    "            outputs = model(input_ids=input_ids, attention_mask=attention_mask, labels=labels)\n",
    "            loss = outputs.loss\n",
    "            total_loss += loss.item()\n",
    "\n",
    "            generated = model.generate(input_ids=input_ids, attention_mask=attention_mask, max_length=MAX_LEN)\n",
    "            decoded_preds = tokenizer.batch_decode(generated, skip_special_tokens=True)\n",
    "            decoded_labels = tokenizer.batch_decode(labels, skip_special_tokens=True)\n",
    "\n",
    "            predictions.extend([pred.split() for pred in decoded_preds])\n",
    "            references.extend([[ref.split()] for ref in decoded_labels])\n",
    "\n",
    "    bleu_score = corpus_bleu(references, predictions)\n",
    "    return total_loss / len(dataloader), bleu_score"
   ]
  },
  {
   "cell_type": "code",
   "execution_count": 14,
   "metadata": {
    "execution": {
     "iopub.execute_input": "2025-01-13T03:38:47.364422Z",
     "iopub.status.busy": "2025-01-13T03:38:47.364231Z",
     "iopub.status.idle": "2025-01-13T04:38:34.885502Z",
     "shell.execute_reply": "2025-01-13T04:38:34.884796Z",
     "shell.execute_reply.started": "2025-01-13T03:38:47.364405Z"
    },
    "trusted": true
   },
   "outputs": [
    {
     "name": "stdout",
     "output_type": "stream",
     "text": [
      "Epoch 1/1\n"
     ]
    },
    {
     "name": "stderr",
     "output_type": "stream",
     "text": [
      "Training: 100%|██████████| 20000/20000 [17:10<00:00, 19.42it/s]\n",
      "Evaluating: 100%|██████████| 5000/5000 [11:45<00:00,  7.09it/s]\n"
     ]
    },
    {
     "name": "stdout",
     "output_type": "stream",
     "text": [
      "Train Loss: 1.9707, Validation Loss: 1.4069, BLEU Score: 0.0000\n"
     ]
    }
   ],
   "source": [
    "#===============================================================================\n",
    "# ▶ 학습 및 평가 루프\n",
    "#===============================================================================\n",
    "for epoch in range(EPOCHS):\n",
    "    print(f\"Epoch {epoch + 1}/{EPOCHS}\")\n",
    "    train_loss = train(model, train_loader, optimizer, device)\n",
    "    val_loss, bleu_score = evaluate(model, val_loader, device)\n",
    "    print(f\"Train Loss: {train_loss:.4f}, Validation Loss: {val_loss:.4f}, BLEU Score: {bleu_score:.4f}\")\n",
    "\n",
    "# 모델 저장\n",
    "torch.save(model.state_dict(), './best_models/translation_model.pth')"
   ]
  },
  {
   "cell_type": "code",
   "execution_count": 13,
   "metadata": {
    "execution": {
     "iopub.execute_input": "2025-01-13T07:26:13.546280Z",
     "iopub.status.busy": "2025-01-13T07:26:13.546008Z",
     "iopub.status.idle": "2025-01-13T07:26:13.619433Z",
     "shell.execute_reply": "2025-01-13T07:26:13.618346Z",
     "shell.execute_reply.started": "2025-01-13T07:26:13.546260Z"
    },
    "trusted": true
   },
   "outputs": [],
   "source": [
    "#===============================================================================\n",
    "# ▶  예측함수정의\n",
    "#===============================================================================\n",
    "def translate(text, model, tokenizer, device):\n",
    "    model.eval()\n",
    "    inputs = tokenizer(text, return_tensors=\"pt\", max_length=MAX_LEN, truncation=True, padding='max_length')\n",
    "    input_ids = inputs[\"input_ids\"].to(device)\n",
    "    attention_mask = inputs[\"attention_mask\"].to(device)\n",
    "\n",
    "    with torch.no_grad():\n",
    "        outputs = model.generate(input_ids=input_ids, attention_mask=attention_mask, max_length=MAX_LEN)\n",
    "    \n",
    "    return tokenizer.decode(outputs[0], skip_special_tokens=True)\n",
    "\n"
   ]
  },
  {
   "cell_type": "code",
   "execution_count": 15,
   "metadata": {},
   "outputs": [
    {
     "ename": "RuntimeError",
     "evalue": "Error(s) in loading state_dict for BartForConditionalGeneration:\n\tMissing key(s) in state_dict: \"final_logits_bias\", \"model.shared.weight\", \"model.encoder.embed_tokens.weight\", \"model.encoder.embed_positions.weight\", \"model.encoder.layers.0.self_attn.k_proj.weight\", \"model.encoder.layers.0.self_attn.k_proj.bias\", \"model.encoder.layers.0.self_attn.v_proj.weight\", \"model.encoder.layers.0.self_attn.v_proj.bias\", \"model.encoder.layers.0.self_attn.q_proj.weight\", \"model.encoder.layers.0.self_attn.q_proj.bias\", \"model.encoder.layers.0.self_attn.out_proj.weight\", \"model.encoder.layers.0.self_attn.out_proj.bias\", \"model.encoder.layers.0.self_attn_layer_norm.weight\", \"model.encoder.layers.0.self_attn_layer_norm.bias\", \"model.encoder.layers.0.fc1.weight\", \"model.encoder.layers.0.fc1.bias\", \"model.encoder.layers.0.fc2.weight\", \"model.encoder.layers.0.fc2.bias\", \"model.encoder.layers.0.final_layer_norm.weight\", \"model.encoder.layers.0.final_layer_norm.bias\", \"model.encoder.layers.1.self_attn.k_proj.weight\", \"model.encoder.layers.1.self_attn.k_proj.bias\", \"model.encoder.layers.1.self_attn.v_proj.weight\", \"model.encoder.layers.1.self_attn.v_proj.bias\", \"model.encoder.layers.1.self_attn.q_proj.weight\", \"model.encoder.layers.1.self_attn.q_proj.bias\", \"model.encoder.layers.1.self_attn.out_proj.weight\", \"model.encoder.layers.1.self_attn.out_proj.bias\", \"model.encoder.layers.1.self_attn_layer_norm.weight\", \"model.encoder.layers.1.self_attn_layer_norm.bias\", \"model.encoder.layers.1.fc1.weight\", \"model.encoder.layers.1.fc1.bias\", \"model.encoder.layers.1.fc2.weight\", \"model.encoder.layers.1.fc2.bias\", \"model.encoder.layers.1.final_layer_norm.weight\", \"model.encoder.layers.1.final_layer_norm.bias\", \"model.encoder.layers.2.self_attn.k_proj.weight\", \"model.encoder.layers.2.self_attn.k_proj.bias\", \"model.encoder.layers.2.self_attn.v_proj.weight\", \"model.encoder.layers.2.self_attn.v_proj.bias\", \"model.encoder.layers.2.self_attn.q_proj.weight\", \"model.encoder.layers.2.self_attn.q_proj.bias\", \"model.encoder.layers.2.self_attn.out_proj.weight\", \"model.encoder.layers.2.self_attn.out_proj.bias\", \"model.encoder.layers.2.self_attn_layer_norm.weight\", \"model.encoder.layers.2.self_attn_layer_norm.bias\", \"model.encoder.layers.2.fc1.weight\", \"model.encoder.layers.2.fc1.bias\", \"model.encoder.layers.2.fc2.weight\", \"model.encoder.layers.2.fc2.bias\", \"model.encoder.layers.2.final_layer_norm.weight\", \"model.encoder.layers.2.final_layer_norm.bias\", \"model.encoder.layers.3.self_attn.k_proj.weight\", \"model.encoder.layers.3.self_attn.k_proj.bias\", \"model.encoder.layers.3.self_attn.v_proj.weight\", \"model.encoder.layers.3.self_attn.v_proj.bias\", \"model.encoder.layers.3.self_attn.q_proj.weight\", \"model.encoder.layers.3.self_attn.q_proj.bias\", \"model.encoder.layers.3.self_attn.out_proj.weight\", \"model.encoder.layers.3.self_attn.out_proj.bias\", \"model.encoder.layers.3.self_attn_layer_norm.weight\", \"model.encoder.layers.3.self_attn_layer_norm.bias\", \"model.encoder.layers.3.fc1.weight\", \"model.encoder.layers.3.fc1.bias\", \"model.encoder.layers.3.fc2.weight\", \"model.encoder.layers.3.fc2.bias\", \"model.encoder.layers.3.final_layer_norm.weight\", \"model.encoder.layers.3.final_layer_norm.bias\", \"model.encoder.layers.4.self_attn.k_proj.weight\", \"model.encoder.layers.4.self_attn.k_proj.bias\", \"model.encoder.layers.4.self_attn.v_proj.weight\", \"model.encoder.layers.4.self_attn.v_proj.bias\", \"model.encoder.layers.4.self_attn.q_proj.weight\", \"model.encoder.layers.4.self_attn.q_proj.bias\", \"model.encoder.layers.4.self_attn.out_proj.weight\", \"model.encoder.layers.4.self_attn.out_proj.bias\", \"model.encoder.layers.4.self_attn_layer_norm.weight\", \"model.encoder.layers.4.self_attn_layer_norm.bias\", \"model.encoder.layers.4.fc1.weight\", \"model.encoder.layers.4.fc1.bias\", \"model.encoder.layers.4.fc2.weight\", \"model.encoder.layers.4.fc2.bias\", \"model.encoder.layers.4.final_layer_norm.weight\", \"model.encoder.layers.4.final_layer_norm.bias\", \"model.encoder.layers.5.self_attn.k_proj.weight\", \"model.encoder.layers.5.self_attn.k_proj.bias\", \"model.encoder.layers.5.self_attn.v_proj.weight\", \"model.encoder.layers.5.self_attn.v_proj.bias\", \"model.encoder.layers.5.self_attn.q_proj.weight\", \"model.encoder.layers.5.self_attn.q_proj.bias\", \"model.encoder.layers.5.self_attn.out_proj.weight\", \"model.encoder.layers.5.self_attn.out_proj.bias\", \"model.encoder.layers.5.self_attn_layer_norm.weight\", \"model.encoder.layers.5.self_attn_layer_norm.bias\", \"model.encoder.layers.5.fc1.weight\", \"model.encoder.layers.5.fc1.bias\", \"model.encoder.layers.5.fc2.weight\", \"model.encoder.layers.5.fc2.bias\", \"model.encoder.layers.5.final_layer_norm.weight\", \"model.encoder.layers.5.final_layer_norm.bias\", \"model.encoder.layernorm_embedding.weight\", \"model.encoder.layernorm_embedding.bias\", \"model.decoder.embed_tokens.weight\", \"model.decoder.embed_positions.weight\", \"model.decoder.layers.0.self_attn.k_proj.weight\", \"model.decoder.layers.0.self_attn.k_proj.bias\", \"model.decoder.layers.0.self_attn.v_proj.weight\", \"model.decoder.layers.0.self_attn.v_proj.bias\", \"model.decoder.layers.0.self_attn.q_proj.weight\", \"model.decoder.layers.0.self_attn.q_proj.bias\", \"model.decoder.layers.0.self_attn.out_proj.weight\", \"model.decoder.layers.0.self_attn.out_proj.bias\", \"model.decoder.layers.0.self_attn_layer_norm.weight\", \"model.decoder.layers.0.self_attn_layer_norm.bias\", \"model.decoder.layers.0.encoder_attn.k_proj.weight\", \"model.decoder.layers.0.encoder_attn.k_proj.bias\", \"model.decoder.layers.0.encoder_attn.v_proj.weight\", \"model.decoder.layers.0.encoder_attn.v_proj.bias\", \"model.decoder.layers.0.encoder_attn.q_proj.weight\", \"model.decoder.layers.0.encoder_attn.q_proj.bias\", \"model.decoder.layers.0.encoder_attn.out_proj.weight\", \"model.decoder.layers.0.encoder_attn.out_proj.bias\", \"model.decoder.layers.0.encoder_attn_layer_norm.weight\", \"model.decoder.layers.0.encoder_attn_layer_norm.bias\", \"model.decoder.layers.0.fc1.weight\", \"model.decoder.layers.0.fc1.bias\", \"model.decoder.layers.0.fc2.weight\", \"model.decoder.layers.0.fc2.bias\", \"model.decoder.layers.0.final_layer_norm.weight\", \"model.decoder.layers.0.final_layer_norm.bias\", \"model.decoder.layers.1.self_attn.k_proj.weight\", \"model.decoder.layers.1.self_attn.k_proj.bias\", \"model.decoder.layers.1.self_attn.v_proj.weight\", \"model.decoder.layers.1.self_attn.v_proj.bias\", \"model.decoder.layers.1.self_attn.q_proj.weight\", \"model.decoder.layers.1.self_attn.q_proj.bias\", \"model.decoder.layers.1.self_attn.out_proj.weight\", \"model.decoder.layers.1.self_attn.out_proj.bias\", \"model.decoder.layers.1.self_attn_layer_norm.weight\", \"model.decoder.layers.1.self_attn_layer_norm.bias\", \"model.decoder.layers.1.encoder_attn.k_proj.weight\", \"model.decoder.layers.1.encoder_attn.k_proj.bias\", \"model.decoder.layers.1.encoder_attn.v_proj.weight\", \"model.decoder.layers.1.encoder_attn.v_proj.bias\", \"model.decoder.layers.1.encoder_attn.q_proj.weight\", \"model.decoder.layers.1.encoder_attn.q_proj.bias\", \"model.decoder.layers.1.encoder_attn.out_proj.weight\", \"model.decoder.layers.1.encoder_attn.out_proj.bias\", \"model.decoder.layers.1.encoder_attn_layer_norm.weight\", \"model.decoder.layers.1.encoder_attn_layer_norm.bias\", \"model.decoder.layers.1.fc1.weight\", \"model.decoder.layers.1.fc1.bias\", \"model.decoder.layers.1.fc2.weight\", \"model.decoder.layers.1.fc2.bias\", \"model.decoder.layers.1.final_layer_norm.weight\", \"model.decoder.layers.1.final_layer_norm.bias\", \"model.decoder.layers.2.self_attn.k_proj.weight\", \"model.decoder.layers.2.self_attn.k_proj.bias\", \"model.decoder.layers.2.self_attn.v_proj.weight\", \"model.decoder.layers.2.self_attn.v_proj.bias\", \"model.decoder.layers.2.self_attn.q_proj.weight\", \"model.decoder.layers.2.self_attn.q_proj.bias\", \"model.decoder.layers.2.self_attn.out_proj.weight\", \"model.decoder.layers.2.self_attn.out_proj.bias\", \"model.decoder.layers.2.self_attn_layer_norm.weight\", \"model.decoder.layers.2.self_attn_layer_norm.bias\", \"model.decoder.layers.2.encoder_attn.k_proj.weight\", \"model.decoder.layers.2.encoder_attn.k_proj.bias\", \"model.decoder.layers.2.encoder_attn.v_proj.weight\", \"model.decoder.layers.2.encoder_attn.v_proj.bias\", \"model.decoder.layers.2.encoder_attn.q_proj.weight\", \"model.decoder.layers.2.encoder_attn.q_proj.bias\", \"model.decoder.layers.2.encoder_attn.out_proj.weight\", \"model.decoder.layers.2.encoder_attn.out_proj.bias\", \"model.decoder.layers.2.encoder_attn_layer_norm.weight\", \"model.decoder.layers.2.encoder_attn_layer_norm.bias\", \"model.decoder.layers.2.fc1.weight\", \"model.decoder.layers.2.fc1.bias\", \"model.decoder.layers.2.fc2.weight\", \"model.decoder.layers.2.fc2.bias\", \"model.decoder.layers.2.final_layer_norm.weight\", \"model.decoder.layers.2.final_layer_norm.bias\", \"model.decoder.layers.3.self_attn.k_proj.weight\", \"model.decoder.layers.3.self_attn.k_proj.bias\", \"model.decoder.layers.3.self_attn.v_proj.weight\", \"model.decoder.layers.3.self_attn.v_proj.bias\", \"model.decoder.layers.3.self_attn.q_proj.weight\", \"model.decoder.layers.3.self_attn.q_proj.bias\", \"model.decoder.layers.3.self_attn.out_proj.weight\", \"model.decoder.layers.3.self_attn.out_proj.bias\", \"model.decoder.layers.3.self_attn_layer_norm.weight\", \"model.decoder.layers.3.self_attn_layer_norm.bias\", \"model.decoder.layers.3.encoder_attn.k_proj.weight\", \"model.decoder.layers.3.encoder_attn.k_proj.bias\", \"model.decoder.layers.3.encoder_attn.v_proj.weight\", \"model.decoder.layers.3.encoder_attn.v_proj.bias\", \"model.decoder.layers.3.encoder_attn.q_proj.weight\", \"model.decoder.layers.3.encoder_attn.q_proj.bias\", \"model.decoder.layers.3.encoder_attn.out_proj.weight\", \"model.decoder.layers.3.encoder_attn.out_proj.bias\", \"model.decoder.layers.3.encoder_attn_layer_norm.weight\", \"model.decoder.layers.3.encoder_attn_layer_norm.bias\", \"model.decoder.layers.3.fc1.weight\", \"model.decoder.layers.3.fc1.bias\", \"model.decoder.layers.3.fc2.weight\", \"model.decoder.layers.3.fc2.bias\", \"model.decoder.layers.3.final_layer_norm.weight\", \"model.decoder.layers.3.final_layer_norm.bias\", \"model.decoder.layers.4.self_attn.k_proj.weight\", \"model.decoder.layers.4.self_attn.k_proj.bias\", \"model.decoder.layers.4.self_attn.v_proj.weight\", \"model.decoder.layers.4.self_attn.v_proj.bias\", \"model.decoder.layers.4.self_attn.q_proj.weight\", \"model.decoder.layers.4.self_attn.q_proj.bias\", \"model.decoder.layers.4.self_attn.out_proj.weight\", \"model.decoder.layers.4.self_attn.out_proj.bias\", \"model.decoder.layers.4.self_attn_layer_norm.weight\", \"model.decoder.layers.4.self_attn_layer_norm.bias\", \"model.decoder.layers.4.encoder_attn.k_proj.weight\", \"model.decoder.layers.4.encoder_attn.k_proj.bias\", \"model.decoder.layers.4.encoder_attn.v_proj.weight\", \"model.decoder.layers.4.encoder_attn.v_proj.bias\", \"model.decoder.layers.4.encoder_attn.q_proj.weight\", \"model.decoder.layers.4.encoder_attn.q_proj.bias\", \"model.decoder.layers.4.encoder_attn.out_proj.weight\", \"model.decoder.layers.4.encoder_attn.out_proj.bias\", \"model.decoder.layers.4.encoder_attn_layer_norm.weight\", \"model.decoder.layers.4.encoder_attn_layer_norm.bias\", \"model.decoder.layers.4.fc1.weight\", \"model.decoder.layers.4.fc1.bias\", \"model.decoder.layers.4.fc2.weight\", \"model.decoder.layers.4.fc2.bias\", \"model.decoder.layers.4.final_layer_norm.weight\", \"model.decoder.layers.4.final_layer_norm.bias\", \"model.decoder.layers.5.self_attn.k_proj.weight\", \"model.decoder.layers.5.self_attn.k_proj.bias\", \"model.decoder.layers.5.self_attn.v_proj.weight\", \"model.decoder.layers.5.self_attn.v_proj.bias\", \"model.decoder.layers.5.self_attn.q_proj.weight\", \"model.decoder.layers.5.self_attn.q_proj.bias\", \"model.decoder.layers.5.self_attn.out_proj.weight\", \"model.decoder.layers.5.self_attn.out_proj.bias\", \"model.decoder.layers.5.self_attn_layer_norm.weight\", \"model.decoder.layers.5.self_attn_layer_norm.bias\", \"model.decoder.layers.5.encoder_attn.k_proj.weight\", \"model.decoder.layers.5.encoder_attn.k_proj.bias\", \"model.decoder.layers.5.encoder_attn.v_proj.weight\", \"model.decoder.layers.5.encoder_attn.v_proj.bias\", \"model.decoder.layers.5.encoder_attn.q_proj.weight\", \"model.decoder.layers.5.encoder_attn.q_proj.bias\", \"model.decoder.layers.5.encoder_attn.out_proj.weight\", \"model.decoder.layers.5.encoder_attn.out_proj.bias\", \"model.decoder.layers.5.encoder_attn_layer_norm.weight\", \"model.decoder.layers.5.encoder_attn_layer_norm.bias\", \"model.decoder.layers.5.fc1.weight\", \"model.decoder.layers.5.fc1.bias\", \"model.decoder.layers.5.fc2.weight\", \"model.decoder.layers.5.fc2.bias\", \"model.decoder.layers.5.final_layer_norm.weight\", \"model.decoder.layers.5.final_layer_norm.bias\", \"model.decoder.layernorm_embedding.weight\", \"model.decoder.layernorm_embedding.bias\", \"lm_head.weight\". \n\tUnexpected key(s) in state_dict: \"epoch\", \"state_dict\", \"optimizer\". ",
     "output_type": "error",
     "traceback": [
      "\u001b[1;31m---------------------------------------------------------------------------\u001b[0m",
      "\u001b[1;31mRuntimeError\u001b[0m                              Traceback (most recent call last)",
      "Cell \u001b[1;32mIn[15], line 3\u001b[0m\n\u001b[0;32m      1\u001b[0m \u001b[38;5;66;03m# 체크포인트 불러오기\u001b[39;00m\n\u001b[0;32m      2\u001b[0m \u001b[38;5;66;03m# model.load_state_dict(torch.load('./best_models/translation_model.pth'))\u001b[39;00m\n\u001b[1;32m----> 3\u001b[0m \u001b[43mmodel\u001b[49m\u001b[38;5;241;43m.\u001b[39;49m\u001b[43mload_state_dict\u001b[49m\u001b[43m(\u001b[49m\u001b[43mtorch\u001b[49m\u001b[38;5;241;43m.\u001b[39;49m\u001b[43mload\u001b[49m\u001b[43m(\u001b[49m\u001b[38;5;124;43m'\u001b[39;49m\u001b[38;5;124;43m./best_models/best_model_epoch_14.pt\u001b[39;49m\u001b[38;5;124;43m'\u001b[39;49m\u001b[43m)\u001b[49m\u001b[43m)\u001b[49m\n",
      "File \u001b[1;32mc:\\anaconda3\\envs\\NLP\\lib\\site-packages\\torch\\nn\\modules\\module.py:2153\u001b[0m, in \u001b[0;36mModule.load_state_dict\u001b[1;34m(self, state_dict, strict, assign)\u001b[0m\n\u001b[0;32m   2148\u001b[0m         error_msgs\u001b[38;5;241m.\u001b[39minsert(\n\u001b[0;32m   2149\u001b[0m             \u001b[38;5;241m0\u001b[39m, \u001b[38;5;124m'\u001b[39m\u001b[38;5;124mMissing key(s) in state_dict: \u001b[39m\u001b[38;5;132;01m{}\u001b[39;00m\u001b[38;5;124m. \u001b[39m\u001b[38;5;124m'\u001b[39m\u001b[38;5;241m.\u001b[39mformat(\n\u001b[0;32m   2150\u001b[0m                 \u001b[38;5;124m'\u001b[39m\u001b[38;5;124m, \u001b[39m\u001b[38;5;124m'\u001b[39m\u001b[38;5;241m.\u001b[39mjoin(\u001b[38;5;124mf\u001b[39m\u001b[38;5;124m'\u001b[39m\u001b[38;5;124m\"\u001b[39m\u001b[38;5;132;01m{\u001b[39;00mk\u001b[38;5;132;01m}\u001b[39;00m\u001b[38;5;124m\"\u001b[39m\u001b[38;5;124m'\u001b[39m \u001b[38;5;28;01mfor\u001b[39;00m k \u001b[38;5;129;01min\u001b[39;00m missing_keys)))\n\u001b[0;32m   2152\u001b[0m \u001b[38;5;28;01mif\u001b[39;00m \u001b[38;5;28mlen\u001b[39m(error_msgs) \u001b[38;5;241m>\u001b[39m \u001b[38;5;241m0\u001b[39m:\n\u001b[1;32m-> 2153\u001b[0m     \u001b[38;5;28;01mraise\u001b[39;00m \u001b[38;5;167;01mRuntimeError\u001b[39;00m(\u001b[38;5;124m'\u001b[39m\u001b[38;5;124mError(s) in loading state_dict for \u001b[39m\u001b[38;5;132;01m{}\u001b[39;00m\u001b[38;5;124m:\u001b[39m\u001b[38;5;130;01m\\n\u001b[39;00m\u001b[38;5;130;01m\\t\u001b[39;00m\u001b[38;5;132;01m{}\u001b[39;00m\u001b[38;5;124m'\u001b[39m\u001b[38;5;241m.\u001b[39mformat(\n\u001b[0;32m   2154\u001b[0m                        \u001b[38;5;28mself\u001b[39m\u001b[38;5;241m.\u001b[39m\u001b[38;5;18m__class__\u001b[39m\u001b[38;5;241m.\u001b[39m\u001b[38;5;18m__name__\u001b[39m, \u001b[38;5;124m\"\u001b[39m\u001b[38;5;130;01m\\n\u001b[39;00m\u001b[38;5;130;01m\\t\u001b[39;00m\u001b[38;5;124m\"\u001b[39m\u001b[38;5;241m.\u001b[39mjoin(error_msgs)))\n\u001b[0;32m   2155\u001b[0m \u001b[38;5;28;01mreturn\u001b[39;00m _IncompatibleKeys(missing_keys, unexpected_keys)\n",
      "\u001b[1;31mRuntimeError\u001b[0m: Error(s) in loading state_dict for BartForConditionalGeneration:\n\tMissing key(s) in state_dict: \"final_logits_bias\", \"model.shared.weight\", \"model.encoder.embed_tokens.weight\", \"model.encoder.embed_positions.weight\", \"model.encoder.layers.0.self_attn.k_proj.weight\", \"model.encoder.layers.0.self_attn.k_proj.bias\", \"model.encoder.layers.0.self_attn.v_proj.weight\", \"model.encoder.layers.0.self_attn.v_proj.bias\", \"model.encoder.layers.0.self_attn.q_proj.weight\", \"model.encoder.layers.0.self_attn.q_proj.bias\", \"model.encoder.layers.0.self_attn.out_proj.weight\", \"model.encoder.layers.0.self_attn.out_proj.bias\", \"model.encoder.layers.0.self_attn_layer_norm.weight\", \"model.encoder.layers.0.self_attn_layer_norm.bias\", \"model.encoder.layers.0.fc1.weight\", \"model.encoder.layers.0.fc1.bias\", \"model.encoder.layers.0.fc2.weight\", \"model.encoder.layers.0.fc2.bias\", \"model.encoder.layers.0.final_layer_norm.weight\", \"model.encoder.layers.0.final_layer_norm.bias\", \"model.encoder.layers.1.self_attn.k_proj.weight\", \"model.encoder.layers.1.self_attn.k_proj.bias\", \"model.encoder.layers.1.self_attn.v_proj.weight\", \"model.encoder.layers.1.self_attn.v_proj.bias\", \"model.encoder.layers.1.self_attn.q_proj.weight\", \"model.encoder.layers.1.self_attn.q_proj.bias\", \"model.encoder.layers.1.self_attn.out_proj.weight\", \"model.encoder.layers.1.self_attn.out_proj.bias\", \"model.encoder.layers.1.self_attn_layer_norm.weight\", \"model.encoder.layers.1.self_attn_layer_norm.bias\", \"model.encoder.layers.1.fc1.weight\", \"model.encoder.layers.1.fc1.bias\", \"model.encoder.layers.1.fc2.weight\", \"model.encoder.layers.1.fc2.bias\", \"model.encoder.layers.1.final_layer_norm.weight\", \"model.encoder.layers.1.final_layer_norm.bias\", \"model.encoder.layers.2.self_attn.k_proj.weight\", \"model.encoder.layers.2.self_attn.k_proj.bias\", \"model.encoder.layers.2.self_attn.v_proj.weight\", \"model.encoder.layers.2.self_attn.v_proj.bias\", \"model.encoder.layers.2.self_attn.q_proj.weight\", \"model.encoder.layers.2.self_attn.q_proj.bias\", \"model.encoder.layers.2.self_attn.out_proj.weight\", \"model.encoder.layers.2.self_attn.out_proj.bias\", \"model.encoder.layers.2.self_attn_layer_norm.weight\", \"model.encoder.layers.2.self_attn_layer_norm.bias\", \"model.encoder.layers.2.fc1.weight\", \"model.encoder.layers.2.fc1.bias\", \"model.encoder.layers.2.fc2.weight\", \"model.encoder.layers.2.fc2.bias\", \"model.encoder.layers.2.final_layer_norm.weight\", \"model.encoder.layers.2.final_layer_norm.bias\", \"model.encoder.layers.3.self_attn.k_proj.weight\", \"model.encoder.layers.3.self_attn.k_proj.bias\", \"model.encoder.layers.3.self_attn.v_proj.weight\", \"model.encoder.layers.3.self_attn.v_proj.bias\", \"model.encoder.layers.3.self_attn.q_proj.weight\", \"model.encoder.layers.3.self_attn.q_proj.bias\", \"model.encoder.layers.3.self_attn.out_proj.weight\", \"model.encoder.layers.3.self_attn.out_proj.bias\", \"model.encoder.layers.3.self_attn_layer_norm.weight\", \"model.encoder.layers.3.self_attn_layer_norm.bias\", \"model.encoder.layers.3.fc1.weight\", \"model.encoder.layers.3.fc1.bias\", \"model.encoder.layers.3.fc2.weight\", \"model.encoder.layers.3.fc2.bias\", \"model.encoder.layers.3.final_layer_norm.weight\", \"model.encoder.layers.3.final_layer_norm.bias\", \"model.encoder.layers.4.self_attn.k_proj.weight\", \"model.encoder.layers.4.self_attn.k_proj.bias\", \"model.encoder.layers.4.self_attn.v_proj.weight\", \"model.encoder.layers.4.self_attn.v_proj.bias\", \"model.encoder.layers.4.self_attn.q_proj.weight\", \"model.encoder.layers.4.self_attn.q_proj.bias\", \"model.encoder.layers.4.self_attn.out_proj.weight\", \"model.encoder.layers.4.self_attn.out_proj.bias\", \"model.encoder.layers.4.self_attn_layer_norm.weight\", \"model.encoder.layers.4.self_attn_layer_norm.bias\", \"model.encoder.layers.4.fc1.weight\", \"model.encoder.layers.4.fc1.bias\", \"model.encoder.layers.4.fc2.weight\", \"model.encoder.layers.4.fc2.bias\", \"model.encoder.layers.4.final_layer_norm.weight\", \"model.encoder.layers.4.final_layer_norm.bias\", \"model.encoder.layers.5.self_attn.k_proj.weight\", \"model.encoder.layers.5.self_attn.k_proj.bias\", \"model.encoder.layers.5.self_attn.v_proj.weight\", \"model.encoder.layers.5.self_attn.v_proj.bias\", \"model.encoder.layers.5.self_attn.q_proj.weight\", \"model.encoder.layers.5.self_attn.q_proj.bias\", \"model.encoder.layers.5.self_attn.out_proj.weight\", \"model.encoder.layers.5.self_attn.out_proj.bias\", \"model.encoder.layers.5.self_attn_layer_norm.weight\", \"model.encoder.layers.5.self_attn_layer_norm.bias\", \"model.encoder.layers.5.fc1.weight\", \"model.encoder.layers.5.fc1.bias\", \"model.encoder.layers.5.fc2.weight\", \"model.encoder.layers.5.fc2.bias\", \"model.encoder.layers.5.final_layer_norm.weight\", \"model.encoder.layers.5.final_layer_norm.bias\", \"model.encoder.layernorm_embedding.weight\", \"model.encoder.layernorm_embedding.bias\", \"model.decoder.embed_tokens.weight\", \"model.decoder.embed_positions.weight\", \"model.decoder.layers.0.self_attn.k_proj.weight\", \"model.decoder.layers.0.self_attn.k_proj.bias\", \"model.decoder.layers.0.self_attn.v_proj.weight\", \"model.decoder.layers.0.self_attn.v_proj.bias\", \"model.decoder.layers.0.self_attn.q_proj.weight\", \"model.decoder.layers.0.self_attn.q_proj.bias\", \"model.decoder.layers.0.self_attn.out_proj.weight\", \"model.decoder.layers.0.self_attn.out_proj.bias\", \"model.decoder.layers.0.self_attn_layer_norm.weight\", \"model.decoder.layers.0.self_attn_layer_norm.bias\", \"model.decoder.layers.0.encoder_attn.k_proj.weight\", \"model.decoder.layers.0.encoder_attn.k_proj.bias\", \"model.decoder.layers.0.encoder_attn.v_proj.weight\", \"model.decoder.layers.0.encoder_attn.v_proj.bias\", \"model.decoder.layers.0.encoder_attn.q_proj.weight\", \"model.decoder.layers.0.encoder_attn.q_proj.bias\", \"model.decoder.layers.0.encoder_attn.out_proj.weight\", \"model.decoder.layers.0.encoder_attn.out_proj.bias\", \"model.decoder.layers.0.encoder_attn_layer_norm.weight\", \"model.decoder.layers.0.encoder_attn_layer_norm.bias\", \"model.decoder.layers.0.fc1.weight\", \"model.decoder.layers.0.fc1.bias\", \"model.decoder.layers.0.fc2.weight\", \"model.decoder.layers.0.fc2.bias\", \"model.decoder.layers.0.final_layer_norm.weight\", \"model.decoder.layers.0.final_layer_norm.bias\", \"model.decoder.layers.1.self_attn.k_proj.weight\", \"model.decoder.layers.1.self_attn.k_proj.bias\", \"model.decoder.layers.1.self_attn.v_proj.weight\", \"model.decoder.layers.1.self_attn.v_proj.bias\", \"model.decoder.layers.1.self_attn.q_proj.weight\", \"model.decoder.layers.1.self_attn.q_proj.bias\", \"model.decoder.layers.1.self_attn.out_proj.weight\", \"model.decoder.layers.1.self_attn.out_proj.bias\", \"model.decoder.layers.1.self_attn_layer_norm.weight\", \"model.decoder.layers.1.self_attn_layer_norm.bias\", \"model.decoder.layers.1.encoder_attn.k_proj.weight\", \"model.decoder.layers.1.encoder_attn.k_proj.bias\", \"model.decoder.layers.1.encoder_attn.v_proj.weight\", \"model.decoder.layers.1.encoder_attn.v_proj.bias\", \"model.decoder.layers.1.encoder_attn.q_proj.weight\", \"model.decoder.layers.1.encoder_attn.q_proj.bias\", \"model.decoder.layers.1.encoder_attn.out_proj.weight\", \"model.decoder.layers.1.encoder_attn.out_proj.bias\", \"model.decoder.layers.1.encoder_attn_layer_norm.weight\", \"model.decoder.layers.1.encoder_attn_layer_norm.bias\", \"model.decoder.layers.1.fc1.weight\", \"model.decoder.layers.1.fc1.bias\", \"model.decoder.layers.1.fc2.weight\", \"model.decoder.layers.1.fc2.bias\", \"model.decoder.layers.1.final_layer_norm.weight\", \"model.decoder.layers.1.final_layer_norm.bias\", \"model.decoder.layers.2.self_attn.k_proj.weight\", \"model.decoder.layers.2.self_attn.k_proj.bias\", \"model.decoder.layers.2.self_attn.v_proj.weight\", \"model.decoder.layers.2.self_attn.v_proj.bias\", \"model.decoder.layers.2.self_attn.q_proj.weight\", \"model.decoder.layers.2.self_attn.q_proj.bias\", \"model.decoder.layers.2.self_attn.out_proj.weight\", \"model.decoder.layers.2.self_attn.out_proj.bias\", \"model.decoder.layers.2.self_attn_layer_norm.weight\", \"model.decoder.layers.2.self_attn_layer_norm.bias\", \"model.decoder.layers.2.encoder_attn.k_proj.weight\", \"model.decoder.layers.2.encoder_attn.k_proj.bias\", \"model.decoder.layers.2.encoder_attn.v_proj.weight\", \"model.decoder.layers.2.encoder_attn.v_proj.bias\", \"model.decoder.layers.2.encoder_attn.q_proj.weight\", \"model.decoder.layers.2.encoder_attn.q_proj.bias\", \"model.decoder.layers.2.encoder_attn.out_proj.weight\", \"model.decoder.layers.2.encoder_attn.out_proj.bias\", \"model.decoder.layers.2.encoder_attn_layer_norm.weight\", \"model.decoder.layers.2.encoder_attn_layer_norm.bias\", \"model.decoder.layers.2.fc1.weight\", \"model.decoder.layers.2.fc1.bias\", \"model.decoder.layers.2.fc2.weight\", \"model.decoder.layers.2.fc2.bias\", \"model.decoder.layers.2.final_layer_norm.weight\", \"model.decoder.layers.2.final_layer_norm.bias\", \"model.decoder.layers.3.self_attn.k_proj.weight\", \"model.decoder.layers.3.self_attn.k_proj.bias\", \"model.decoder.layers.3.self_attn.v_proj.weight\", \"model.decoder.layers.3.self_attn.v_proj.bias\", \"model.decoder.layers.3.self_attn.q_proj.weight\", \"model.decoder.layers.3.self_attn.q_proj.bias\", \"model.decoder.layers.3.self_attn.out_proj.weight\", \"model.decoder.layers.3.self_attn.out_proj.bias\", \"model.decoder.layers.3.self_attn_layer_norm.weight\", \"model.decoder.layers.3.self_attn_layer_norm.bias\", \"model.decoder.layers.3.encoder_attn.k_proj.weight\", \"model.decoder.layers.3.encoder_attn.k_proj.bias\", \"model.decoder.layers.3.encoder_attn.v_proj.weight\", \"model.decoder.layers.3.encoder_attn.v_proj.bias\", \"model.decoder.layers.3.encoder_attn.q_proj.weight\", \"model.decoder.layers.3.encoder_attn.q_proj.bias\", \"model.decoder.layers.3.encoder_attn.out_proj.weight\", \"model.decoder.layers.3.encoder_attn.out_proj.bias\", \"model.decoder.layers.3.encoder_attn_layer_norm.weight\", \"model.decoder.layers.3.encoder_attn_layer_norm.bias\", \"model.decoder.layers.3.fc1.weight\", \"model.decoder.layers.3.fc1.bias\", \"model.decoder.layers.3.fc2.weight\", \"model.decoder.layers.3.fc2.bias\", \"model.decoder.layers.3.final_layer_norm.weight\", \"model.decoder.layers.3.final_layer_norm.bias\", \"model.decoder.layers.4.self_attn.k_proj.weight\", \"model.decoder.layers.4.self_attn.k_proj.bias\", \"model.decoder.layers.4.self_attn.v_proj.weight\", \"model.decoder.layers.4.self_attn.v_proj.bias\", \"model.decoder.layers.4.self_attn.q_proj.weight\", \"model.decoder.layers.4.self_attn.q_proj.bias\", \"model.decoder.layers.4.self_attn.out_proj.weight\", \"model.decoder.layers.4.self_attn.out_proj.bias\", \"model.decoder.layers.4.self_attn_layer_norm.weight\", \"model.decoder.layers.4.self_attn_layer_norm.bias\", \"model.decoder.layers.4.encoder_attn.k_proj.weight\", \"model.decoder.layers.4.encoder_attn.k_proj.bias\", \"model.decoder.layers.4.encoder_attn.v_proj.weight\", \"model.decoder.layers.4.encoder_attn.v_proj.bias\", \"model.decoder.layers.4.encoder_attn.q_proj.weight\", \"model.decoder.layers.4.encoder_attn.q_proj.bias\", \"model.decoder.layers.4.encoder_attn.out_proj.weight\", \"model.decoder.layers.4.encoder_attn.out_proj.bias\", \"model.decoder.layers.4.encoder_attn_layer_norm.weight\", \"model.decoder.layers.4.encoder_attn_layer_norm.bias\", \"model.decoder.layers.4.fc1.weight\", \"model.decoder.layers.4.fc1.bias\", \"model.decoder.layers.4.fc2.weight\", \"model.decoder.layers.4.fc2.bias\", \"model.decoder.layers.4.final_layer_norm.weight\", \"model.decoder.layers.4.final_layer_norm.bias\", \"model.decoder.layers.5.self_attn.k_proj.weight\", \"model.decoder.layers.5.self_attn.k_proj.bias\", \"model.decoder.layers.5.self_attn.v_proj.weight\", \"model.decoder.layers.5.self_attn.v_proj.bias\", \"model.decoder.layers.5.self_attn.q_proj.weight\", \"model.decoder.layers.5.self_attn.q_proj.bias\", \"model.decoder.layers.5.self_attn.out_proj.weight\", \"model.decoder.layers.5.self_attn.out_proj.bias\", \"model.decoder.layers.5.self_attn_layer_norm.weight\", \"model.decoder.layers.5.self_attn_layer_norm.bias\", \"model.decoder.layers.5.encoder_attn.k_proj.weight\", \"model.decoder.layers.5.encoder_attn.k_proj.bias\", \"model.decoder.layers.5.encoder_attn.v_proj.weight\", \"model.decoder.layers.5.encoder_attn.v_proj.bias\", \"model.decoder.layers.5.encoder_attn.q_proj.weight\", \"model.decoder.layers.5.encoder_attn.q_proj.bias\", \"model.decoder.layers.5.encoder_attn.out_proj.weight\", \"model.decoder.layers.5.encoder_attn.out_proj.bias\", \"model.decoder.layers.5.encoder_attn_layer_norm.weight\", \"model.decoder.layers.5.encoder_attn_layer_norm.bias\", \"model.decoder.layers.5.fc1.weight\", \"model.decoder.layers.5.fc1.bias\", \"model.decoder.layers.5.fc2.weight\", \"model.decoder.layers.5.fc2.bias\", \"model.decoder.layers.5.final_layer_norm.weight\", \"model.decoder.layers.5.final_layer_norm.bias\", \"model.decoder.layernorm_embedding.weight\", \"model.decoder.layernorm_embedding.bias\", \"lm_head.weight\". \n\tUnexpected key(s) in state_dict: \"epoch\", \"state_dict\", \"optimizer\". "
     ]
    }
   ],
   "source": [
    "# 체크포인트 불러오기\n",
    "# model.load_state_dict(torch.load('./best_models/translation_model.pth'))\n"
   ]
  },
  {
   "cell_type": "code",
   "execution_count": null,
   "metadata": {
    "trusted": true
   },
   "outputs": [
    {
     "name": "stdout",
     "output_type": "stream",
     "text": [
      "영어원문: Hello! what have you been up to? What have you been doing in the past few months    with   your        computer\n",
      "한글번역: 여�\n"
     ]
    }
   ],
   "source": [
    "#===============================================================================\n",
    "# ▶ 예측테스트\n",
    "#===============================================================================\n",
    "test_sentence = \"Hello! what have you been up to?\"\n",
    "translated = translate(test_sentence, model, tokenizer, device)\n",
    "print(f\"영어원문: {test_sentence}\")\n",
    "print(f\"한글번역: {translated}\")"
   ]
  },
  {
   "cell_type": "code",
   "execution_count": null,
   "metadata": {},
   "outputs": [],
   "source": []
  }
 ],
 "metadata": {
  "kaggle": {
   "accelerator": "nvidiaTeslaT4",
   "dataSources": [
    {
     "datasetId": 6471858,
     "sourceId": 10454843,
     "sourceType": "datasetVersion"
    }
   ],
   "isGpuEnabled": true,
   "isInternetEnabled": true,
   "language": "python",
   "sourceType": "notebook"
  },
  "kernelspec": {
   "display_name": "NLP",
   "language": "python",
   "name": "python3"
  },
  "language_info": {
   "codemirror_mode": {
    "name": "ipython",
    "version": 3
   },
   "file_extension": ".py",
   "mimetype": "text/x-python",
   "name": "python",
   "nbconvert_exporter": "python",
   "pygments_lexer": "ipython3",
   "version": "3.9.1"
  }
 },
 "nbformat": 4,
 "nbformat_minor": 4
}
